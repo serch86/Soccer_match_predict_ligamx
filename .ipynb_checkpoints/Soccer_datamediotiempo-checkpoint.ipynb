{
 "cells": [
  {
   "cell_type": "code",
   "execution_count": 1,
   "metadata": {},
   "outputs": [],
   "source": [
    "import pandas as pd #lectura de datos\n",
    "import numpy as np # biblioteca con operaciones matemáticas y algebra lineal\n",
    "import mysql.connector # importar la base de datos\n",
    "\n",
    "\n",
    "#viz y plots bonitos\n",
    "import matplotlib.pyplot as plt\n",
    "import seaborn as sb\n",
    "plt.style.use('ggplot')\n",
    "font = {'family' : 'sans',\n",
    "        'weight' : 'bold',\n",
    "        'size'   : 20}\n",
    "plt.rc('font', **font)\n",
    "plt.rcParams['xtick.labelsize'] = 16\n",
    "plt.rcParams['ytick.labelsize'] = 16\n",
    "plt.rcParams[u'figure.figsize'] = (16,12)\n",
    "params = {'legend.fontsize': 'x-large',\n",
    "         'axes.labelsize': 'x-large',\n",
    "         'axes.titlesize':'x-large'}\n",
    "plt.rcParams.update(params)\n",
    "\n",
    "# preprocesamiento de datos\n",
    "from sklearn.model_selection import train_test_split\n",
    "from sklearn.utils import resample\n",
    "\n",
    "#tuneo de metaparametros\n",
    "from sklearn.model_selection import GridSearchCV\n",
    "\n",
    "# Modelos\n",
    "import lightgbm as lgb\n",
    "from sklearn.ensemble import GradientBoostingClassifier\n",
    "\n",
    "# metricas de evaluacion\n",
    "from sklearn.metrics import (roc_auc_score, classification_report, confusion_matrix,\n",
    "                            roc_curve, accuracy_score)\n",
    "# lo mismo pero en grafico\n",
    "import scikitplot as skplt\n",
    "\n",
    "# Interpretacion\n",
    "from sklearn.ensemble.partial_dependence import plot_partial_dependence\n",
    "import shap"
   ]
  },
  {
   "cell_type": "code",
   "execution_count": 85,
   "metadata": {},
   "outputs": [],
   "source": [
    "cnx = mysql.connector.connect(\n",
    "        user='ligamx_scrapper', \n",
    "        password='1234qwer', # note apures... nunca uso esa contrasenia :v\n",
    "        host='localhost',\n",
    "        database='ligamx')"
   ]
  },
  {
   "cell_type": "code",
   "execution_count": 86,
   "metadata": {},
   "outputs": [],
   "source": [
    "df = pd.read_sql_query(\"SELECT * FROM ligamx.match;\", con=cnx)\n",
    "df[\"match_date\"] = pd.to_datetime(df.match_date)\n",
    "\n",
    "# df.head()"
   ]
  },
  {
   "cell_type": "code",
   "execution_count": 87,
   "metadata": {},
   "outputs": [],
   "source": [
    "# Variable si depende del mes y dia que juegan\n",
    "df[\"match_year\"] = df.match_date.dt.year\n",
    "df[\"match_month\"] = df.match_date.dt.month\n",
    "dict_day = {0:'Lunes',1:'Martes',2:'Miercoles',3:'Jueves',4:'Viernes',5:'Sabado',6:'Domingo'}\n",
    "df[\"match_diasemana\"] = df.match_date.dt.weekday.map(dict_day)\n",
    "# Checamos que los nombres no esten repetidos\n",
    "team_dict = {'Gallos Blancos':'Club Querétaro','Laguna':'Santos'}\n",
    "df.home_team = df.home_team.apply(lambda x: team_dict.get(x,x))\n",
    "df.away_team = df.away_team.apply(lambda x: team_dict.get(x,x))\n",
    "# Guardamos el resultado que sera nuestra variable a predecir al hacerlo multiclase\n",
    "df['resultado'] = np.where(df.home_score > df.away_score, 'local',\n",
    "                          np.where(df.home_score == df.away_score, 'empate',\n",
    "                                  'visitante'))"
   ]
  },
  {
   "cell_type": "code",
   "execution_count": 88,
   "metadata": {},
   "outputs": [],
   "source": [
    "df['ganador'] = np.where(df.home_score > df.away_score, df.home_team,\n",
    "                          np.where(df.home_score == df.away_score, 'empate',\n",
    "                                  df.away_team))"
   ]
  },
  {
   "cell_type": "code",
   "execution_count": 89,
   "metadata": {},
   "outputs": [
    {
     "data": {
      "image/png": "[encoded data removed]",
      "text/plain": [
       "<Figure size 432x288 with 1 Axes>"
      ]
     },
     "metadata": {
      "needs_background": "light"
     },
     "output_type": "display_data"
    }
   ],
   "source": [
    "res = df.resultado.value_counts(normalize=True) * 100\n",
    "res.plot.bar(rot=0, title='Porcentaje de resultados liga mx')\n",
    "plt.ylabel('Porcentaje %')\n",
    "for ind,i in enumerate(res.values):\n",
    "    plt.text(ind-0.1,i,str(round(i,2))+'%')"
   ]
  },
  {
   "cell_type": "markdown",
   "metadata": {},
   "source": [
    "# Solo por hobbie hagamos una carrera de barras"
   ]
  },
  {
   "cell_type": "code",
   "execution_count": 175,
   "metadata": {},
   "outputs": [],
   "source": [
    "import bar_chart_race as bcr\n",
    "# necesario instalar ffmepg, hit utiliza conda...! funciona"
   ]
  },
  {
   "cell_type": "code",
   "execution_count": 299,
   "metadata": {},
   "outputs": [],
   "source": [
    "# creamos un par de columnas para mejorar la visualizacion\n",
    "df['year_month'] = pd.to_datetime(df.match_date).dt.to_period('m')\n",
    "df['es_liguilla'] = np.where(df.match_name.str[:7] != 'Jornada',1,0)"
   ]
  },
  {
   "cell_type": "code",
   "execution_count": 300,
   "metadata": {},
   "outputs": [],
   "source": [
    "df_bar_race = df[df['es_liguilla'] != 1]\n",
    "df_bar_race = df.groupby(\"year_month\").ganador.value_counts().unstack(1)\n",
    "df_bar_race = df_bar_race.reset_index().set_index(\"year_month\").fillna(0).cumsum()\n",
    "df_bar_race.index = df_bar_race.index.to_timestamp()\n",
    "df_bar_race.drop(['empate','Ángeles','Atlético Español','Campesinos','Cobras','Correcaminos',\n",
    "                 'Cuernavaca','Indios','La Piedad','Tampico Madero','Atlético de San Luis'],axis=1,inplace=True)"
   ]
  },
  {
   "cell_type": "code",
   "execution_count": null,
   "metadata": {},
   "outputs": [],
   "source": [
    "def period_summary(values, ranks):\n",
    "    top2 = values.nlargest(2)\n",
    "    leader = top2.index[0]\n",
    "    lead = top2.iloc[0] - top2.iloc[1]\n",
    "    s = f'{leader} by {lead:.0f}'\n",
    "    return {'s': s, 'x': .95, 'y': .07, 'ha': 'right', 'size': 8}\n",
    "\n",
    "bcr.bar_chart_race(df=df_bar_race, \n",
    "                   filename= None, #'ligamx_winners.mp4', \n",
    "                   n_bars=10, \n",
    "                   period_fmt = ' %B %Y', \n",
    "                   title='Partidos ganados acumulados de la Liga MX 1975-2019 sin liguillas',\n",
    "                   bar_label_size=7,\n",
    "                   tick_label_size=8,\n",
    "                   steps_per_period=6,\n",
    "                   bar_kwargs={'alpha': .7},\n",
    "                   period_summary_func=period_summary,\n",
    "                   perpendicular_bar_func='median',\n",
    "                   scale='linear',\n",
    "                   cmap=['yellow','blue','gold','red','navy','red','aqua',\n",
    "                   'brown','red','snow','greenyellow','aqua','orangered',\n",
    "                   'deepskyblue','limegreen','lightcoral','b','darkred','navy','white',\n",
    "                   'chocolate','lawngreen','darksalmon','silver','gray','navy','lightgreen','firebrick',\n",
    "                   'royalblue','w','cornflowerblue','dodgerblue','olive','palegreen'\n",
    "                   ,'yellow','r','crimson','chartreuse','seashell'],\n",
    "                   filter_column_colors=False)"
   ]
  },
  {
   "cell_type": "code",
   "execution_count": null,
   "metadata": {},
   "outputs": [],
   "source": []
  },
  {
   "cell_type": "code",
   "execution_count": null,
   "metadata": {},
   "outputs": [],
   "source": []
  },
  {
   "cell_type": "code",
   "execution_count": null,
   "metadata": {},
   "outputs": [],
   "source": []
  },
  {
   "cell_type": "code",
   "execution_count": null,
   "metadata": {},
   "outputs": [],
   "source": []
  },
  {
   "cell_type": "code",
   "execution_count": null,
   "metadata": {},
   "outputs": [],
   "source": []
  },
  {
   "cell_type": "code",
   "execution_count": null,
   "metadata": {},
   "outputs": [],
   "source": []
  },
  {
   "cell_type": "code",
   "execution_count": 47,
   "metadata": {},
   "outputs": [
    {
     "data": {
      "text/plain": [
       "tournament_name\n",
       "apertura 2002    204\n",
       "apertura 2003    208\n",
       "apertura 2004    167\n",
       "apertura 2005    158\n",
       "apertura 2006    169\n",
       "                ... \n",
       "verano 1997      169\n",
       "verano 1998      171\n",
       "verano 1999      169\n",
       "verano 2001      162\n",
       "verano 2002      189\n",
       "Length: 65, dtype: int64"
      ]
     },
     "execution_count": 47,
     "metadata": {},
     "output_type": "execute_result"
    }
   ],
   "source": [
    "df.groupby('tournament_name').size()"
   ]
  },
  {
   "cell_type": "code",
   "execution_count": null,
   "metadata": {},
   "outputs": [],
   "source": []
  }
 ],
 "metadata": {
  "kernelspec": {
   "display_name": "Python 3",
   "language": "python",
   "name": "python3"
  },
  "language_info": {
   "codemirror_mode": {
    "name": "ipython",
    "version": 3
   },
   "file_extension": ".py",
   "mimetype": "text/x-python",
   "name": "python",
   "nbconvert_exporter": "python",
   "pygments_lexer": "ipython3",
   "version": "3.7.4"
  }
 },
 "nbformat": 4,
 "nbformat_minor": 4
}
